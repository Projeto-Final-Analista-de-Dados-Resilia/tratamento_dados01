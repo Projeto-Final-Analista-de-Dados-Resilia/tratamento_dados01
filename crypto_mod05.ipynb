{
 "cells": [
  {
   "cell_type": "code",
   "execution_count": 1,
   "id": "5a7d9e4a",
   "metadata": {},
   "outputs": [],
   "source": [
    "import numpy as np\n",
    "import pandas as pd"
   ]
  },
  {
   "cell_type": "markdown",
   "id": "19eaf0f5",
   "metadata": {},
   "source": [
    "* Formatando campo Marketcap\n",
    "\n",
    "Format with commas and round off to two decimal places in pandas\n",
    "pd.options.display.float_format = '{:, .2f}'.format"
   ]
  },
  {
   "cell_type": "code",
   "execution_count": 5,
   "id": "4332818e",
   "metadata": {},
   "outputs": [],
   "source": [
    "# configrando a saída do data frame para virgula a cada kilo (mil) e duas casas decimais\n",
    "#após vírgula\n",
    "pd.options.display.float_format = '{:,.2f}'.format "
   ]
  },
  {
   "cell_type": "code",
   "execution_count": 6,
   "id": "32f7fa93",
   "metadata": {},
   "outputs": [],
   "source": [
    "arq01= pd.read_csv(\"coin_Bitcoin.csv\")"
   ]
  },
  {
   "cell_type": "code",
   "execution_count": 7,
   "id": "97ad49f0",
   "metadata": {},
   "outputs": [
    {
     "data": {
      "text/html": [
       "<div>\n",
       "<style scoped>\n",
       "    .dataframe tbody tr th:only-of-type {\n",
       "        vertical-align: middle;\n",
       "    }\n",
       "\n",
       "    .dataframe tbody tr th {\n",
       "        vertical-align: top;\n",
       "    }\n",
       "\n",
       "    .dataframe thead th {\n",
       "        text-align: right;\n",
       "    }\n",
       "</style>\n",
       "<table border=\"1\" class=\"dataframe\">\n",
       "  <thead>\n",
       "    <tr style=\"text-align: right;\">\n",
       "      <th></th>\n",
       "      <th>SNo</th>\n",
       "      <th>Name</th>\n",
       "      <th>Symbol</th>\n",
       "      <th>Date</th>\n",
       "      <th>High</th>\n",
       "      <th>Low</th>\n",
       "      <th>Open</th>\n",
       "      <th>Close</th>\n",
       "      <th>Volume</th>\n",
       "      <th>Marketcap</th>\n",
       "    </tr>\n",
       "  </thead>\n",
       "  <tbody>\n",
       "    <tr>\n",
       "      <th>0</th>\n",
       "      <td>1</td>\n",
       "      <td>Bitcoin</td>\n",
       "      <td>BTC</td>\n",
       "      <td>2013-04-29 23:59:59</td>\n",
       "      <td>147.49</td>\n",
       "      <td>134.00</td>\n",
       "      <td>134.44</td>\n",
       "      <td>144.54</td>\n",
       "      <td>0.00</td>\n",
       "      <td>1,603,768,864.50</td>\n",
       "    </tr>\n",
       "    <tr>\n",
       "      <th>1</th>\n",
       "      <td>2</td>\n",
       "      <td>Bitcoin</td>\n",
       "      <td>BTC</td>\n",
       "      <td>2013-04-30 23:59:59</td>\n",
       "      <td>146.93</td>\n",
       "      <td>134.05</td>\n",
       "      <td>144.00</td>\n",
       "      <td>139.00</td>\n",
       "      <td>0.00</td>\n",
       "      <td>1,542,813,125.00</td>\n",
       "    </tr>\n",
       "    <tr>\n",
       "      <th>2</th>\n",
       "      <td>3</td>\n",
       "      <td>Bitcoin</td>\n",
       "      <td>BTC</td>\n",
       "      <td>2013-05-01 23:59:59</td>\n",
       "      <td>139.89</td>\n",
       "      <td>107.72</td>\n",
       "      <td>139.00</td>\n",
       "      <td>116.99</td>\n",
       "      <td>0.00</td>\n",
       "      <td>1,298,954,593.75</td>\n",
       "    </tr>\n",
       "    <tr>\n",
       "      <th>3</th>\n",
       "      <td>4</td>\n",
       "      <td>Bitcoin</td>\n",
       "      <td>BTC</td>\n",
       "      <td>2013-05-02 23:59:59</td>\n",
       "      <td>125.60</td>\n",
       "      <td>92.28</td>\n",
       "      <td>116.38</td>\n",
       "      <td>105.21</td>\n",
       "      <td>0.00</td>\n",
       "      <td>1,168,517,495.25</td>\n",
       "    </tr>\n",
       "    <tr>\n",
       "      <th>4</th>\n",
       "      <td>5</td>\n",
       "      <td>Bitcoin</td>\n",
       "      <td>BTC</td>\n",
       "      <td>2013-05-03 23:59:59</td>\n",
       "      <td>108.13</td>\n",
       "      <td>79.10</td>\n",
       "      <td>106.25</td>\n",
       "      <td>97.75</td>\n",
       "      <td>0.00</td>\n",
       "      <td>1,085,995,168.75</td>\n",
       "    </tr>\n",
       "  </tbody>\n",
       "</table>\n",
       "</div>"
      ],
      "text/plain": [
       "   SNo     Name Symbol                 Date   High    Low   Open  Close  \\\n",
       "0    1  Bitcoin    BTC  2013-04-29 23:59:59 147.49 134.00 134.44 144.54   \n",
       "1    2  Bitcoin    BTC  2013-04-30 23:59:59 146.93 134.05 144.00 139.00   \n",
       "2    3  Bitcoin    BTC  2013-05-01 23:59:59 139.89 107.72 139.00 116.99   \n",
       "3    4  Bitcoin    BTC  2013-05-02 23:59:59 125.60  92.28 116.38 105.21   \n",
       "4    5  Bitcoin    BTC  2013-05-03 23:59:59 108.13  79.10 106.25  97.75   \n",
       "\n",
       "   Volume        Marketcap  \n",
       "0    0.00 1,603,768,864.50  \n",
       "1    0.00 1,542,813,125.00  \n",
       "2    0.00 1,298,954,593.75  \n",
       "3    0.00 1,168,517,495.25  \n",
       "4    0.00 1,085,995,168.75  "
      ]
     },
     "execution_count": 7,
     "metadata": {},
     "output_type": "execute_result"
    }
   ],
   "source": [
    "arq01.head()"
   ]
  },
  {
   "cell_type": "code",
   "execution_count": null,
   "id": "56d1e5fb",
   "metadata": {},
   "outputs": [],
   "source": [
    "arq01.shape"
   ]
  },
  {
   "cell_type": "code",
   "execution_count": 8,
   "id": "a624a782",
   "metadata": {},
   "outputs": [
    {
     "name": "stdout",
     "output_type": "stream",
     "text": [
      "<class 'pandas.core.frame.DataFrame'>\n",
      "RangeIndex: 2991 entries, 0 to 2990\n",
      "Data columns (total 10 columns):\n",
      " #   Column     Non-Null Count  Dtype  \n",
      "---  ------     --------------  -----  \n",
      " 0   SNo        2991 non-null   int64  \n",
      " 1   Name       2991 non-null   object \n",
      " 2   Symbol     2991 non-null   object \n",
      " 3   Date       2991 non-null   object \n",
      " 4   High       2991 non-null   float64\n",
      " 5   Low        2991 non-null   float64\n",
      " 6   Open       2991 non-null   float64\n",
      " 7   Close      2991 non-null   float64\n",
      " 8   Volume     2991 non-null   float64\n",
      " 9   Marketcap  2991 non-null   float64\n",
      "dtypes: float64(6), int64(1), object(3)\n",
      "memory usage: 233.8+ KB\n"
     ]
    }
   ],
   "source": [
    "arq01.info()"
   ]
  },
  {
   "cell_type": "code",
   "execution_count": 9,
   "id": "85101d26",
   "metadata": {},
   "outputs": [],
   "source": [
    "# selecionando colunas de interesse"
   ]
  },
  {
   "cell_type": "code",
   "execution_count": 10,
   "id": "719b3101",
   "metadata": {},
   "outputs": [
    {
     "data": {
      "text/plain": [
       "Index(['SNo', 'Name', 'Symbol', 'Date', 'High', 'Low', 'Open', 'Close',\n",
       "       'Volume', 'Marketcap'],\n",
       "      dtype='object')"
      ]
     },
     "execution_count": 10,
     "metadata": {},
     "output_type": "execute_result"
    }
   ],
   "source": [
    "arq01.columns"
   ]
  },
  {
   "cell_type": "code",
   "execution_count": 11,
   "id": "b0c304e2",
   "metadata": {},
   "outputs": [],
   "source": [
    "arq02 = arq01[['Name','Symbol', 'Date','High', 'Open','Marketcap']]"
   ]
  },
  {
   "cell_type": "code",
   "execution_count": 12,
   "id": "b0defff5",
   "metadata": {
    "scrolled": true
   },
   "outputs": [
    {
     "data": {
      "text/html": [
       "<div>\n",
       "<style scoped>\n",
       "    .dataframe tbody tr th:only-of-type {\n",
       "        vertical-align: middle;\n",
       "    }\n",
       "\n",
       "    .dataframe tbody tr th {\n",
       "        vertical-align: top;\n",
       "    }\n",
       "\n",
       "    .dataframe thead th {\n",
       "        text-align: right;\n",
       "    }\n",
       "</style>\n",
       "<table border=\"1\" class=\"dataframe\">\n",
       "  <thead>\n",
       "    <tr style=\"text-align: right;\">\n",
       "      <th></th>\n",
       "      <th>Name</th>\n",
       "      <th>Symbol</th>\n",
       "      <th>Date</th>\n",
       "      <th>High</th>\n",
       "      <th>Open</th>\n",
       "      <th>Marketcap</th>\n",
       "    </tr>\n",
       "  </thead>\n",
       "  <tbody>\n",
       "    <tr>\n",
       "      <th>0</th>\n",
       "      <td>Bitcoin</td>\n",
       "      <td>BTC</td>\n",
       "      <td>2013-04-29 23:59:59</td>\n",
       "      <td>147.49</td>\n",
       "      <td>134.44</td>\n",
       "      <td>1,603,768,864.50</td>\n",
       "    </tr>\n",
       "    <tr>\n",
       "      <th>1</th>\n",
       "      <td>Bitcoin</td>\n",
       "      <td>BTC</td>\n",
       "      <td>2013-04-30 23:59:59</td>\n",
       "      <td>146.93</td>\n",
       "      <td>144.00</td>\n",
       "      <td>1,542,813,125.00</td>\n",
       "    </tr>\n",
       "    <tr>\n",
       "      <th>2</th>\n",
       "      <td>Bitcoin</td>\n",
       "      <td>BTC</td>\n",
       "      <td>2013-05-01 23:59:59</td>\n",
       "      <td>139.89</td>\n",
       "      <td>139.00</td>\n",
       "      <td>1,298,954,593.75</td>\n",
       "    </tr>\n",
       "    <tr>\n",
       "      <th>3</th>\n",
       "      <td>Bitcoin</td>\n",
       "      <td>BTC</td>\n",
       "      <td>2013-05-02 23:59:59</td>\n",
       "      <td>125.60</td>\n",
       "      <td>116.38</td>\n",
       "      <td>1,168,517,495.25</td>\n",
       "    </tr>\n",
       "    <tr>\n",
       "      <th>4</th>\n",
       "      <td>Bitcoin</td>\n",
       "      <td>BTC</td>\n",
       "      <td>2013-05-03 23:59:59</td>\n",
       "      <td>108.13</td>\n",
       "      <td>106.25</td>\n",
       "      <td>1,085,995,168.75</td>\n",
       "    </tr>\n",
       "  </tbody>\n",
       "</table>\n",
       "</div>"
      ],
      "text/plain": [
       "      Name Symbol                 Date   High   Open        Marketcap\n",
       "0  Bitcoin    BTC  2013-04-29 23:59:59 147.49 134.44 1,603,768,864.50\n",
       "1  Bitcoin    BTC  2013-04-30 23:59:59 146.93 144.00 1,542,813,125.00\n",
       "2  Bitcoin    BTC  2013-05-01 23:59:59 139.89 139.00 1,298,954,593.75\n",
       "3  Bitcoin    BTC  2013-05-02 23:59:59 125.60 116.38 1,168,517,495.25\n",
       "4  Bitcoin    BTC  2013-05-03 23:59:59 108.13 106.25 1,085,995,168.75"
      ]
     },
     "execution_count": 12,
     "metadata": {},
     "output_type": "execute_result"
    }
   ],
   "source": [
    "arq02.head()\n"
   ]
  },
  {
   "cell_type": "code",
   "execution_count": null,
   "id": "6da8100e",
   "metadata": {},
   "outputs": [],
   "source": [
    "arq02.info()"
   ]
  },
  {
   "cell_type": "code",
   "execution_count": 13,
   "id": "02043e80",
   "metadata": {},
   "outputs": [
    {
     "name": "stderr",
     "output_type": "stream",
     "text": [
      "/tmp/ipykernel_8692/1369767942.py:2: SettingWithCopyWarning: \n",
      "A value is trying to be set on a copy of a slice from a DataFrame.\n",
      "Try using .loc[row_indexer,col_indexer] = value instead\n",
      "\n",
      "See the caveats in the documentation: https://pandas.pydata.org/pandas-docs/stable/user_guide/indexing.html#returning-a-view-versus-a-copy\n",
      "  arq02['Date'] = pd.to_datetime(arq02['Date'])\n"
     ]
    }
   ],
   "source": [
    "#mudar campo date para datetime e formatar para dia mes ano\n",
    "arq02['Date'] = pd.to_datetime(arq02['Date'])"
   ]
  },
  {
   "cell_type": "code",
   "execution_count": 14,
   "id": "ef600a43",
   "metadata": {
    "scrolled": false
   },
   "outputs": [
    {
     "data": {
      "text/html": [
       "<div>\n",
       "<style scoped>\n",
       "    .dataframe tbody tr th:only-of-type {\n",
       "        vertical-align: middle;\n",
       "    }\n",
       "\n",
       "    .dataframe tbody tr th {\n",
       "        vertical-align: top;\n",
       "    }\n",
       "\n",
       "    .dataframe thead th {\n",
       "        text-align: right;\n",
       "    }\n",
       "</style>\n",
       "<table border=\"1\" class=\"dataframe\">\n",
       "  <thead>\n",
       "    <tr style=\"text-align: right;\">\n",
       "      <th></th>\n",
       "      <th>Name</th>\n",
       "      <th>Symbol</th>\n",
       "      <th>Date</th>\n",
       "      <th>High</th>\n",
       "      <th>Open</th>\n",
       "      <th>Marketcap</th>\n",
       "    </tr>\n",
       "  </thead>\n",
       "  <tbody>\n",
       "    <tr>\n",
       "      <th>0</th>\n",
       "      <td>Bitcoin</td>\n",
       "      <td>BTC</td>\n",
       "      <td>2013-04-29 23:59:59</td>\n",
       "      <td>147.49</td>\n",
       "      <td>134.44</td>\n",
       "      <td>1,603,768,864.50</td>\n",
       "    </tr>\n",
       "    <tr>\n",
       "      <th>1</th>\n",
       "      <td>Bitcoin</td>\n",
       "      <td>BTC</td>\n",
       "      <td>2013-04-30 23:59:59</td>\n",
       "      <td>146.93</td>\n",
       "      <td>144.00</td>\n",
       "      <td>1,542,813,125.00</td>\n",
       "    </tr>\n",
       "    <tr>\n",
       "      <th>2</th>\n",
       "      <td>Bitcoin</td>\n",
       "      <td>BTC</td>\n",
       "      <td>2013-05-01 23:59:59</td>\n",
       "      <td>139.89</td>\n",
       "      <td>139.00</td>\n",
       "      <td>1,298,954,593.75</td>\n",
       "    </tr>\n",
       "  </tbody>\n",
       "</table>\n",
       "</div>"
      ],
      "text/plain": [
       "      Name Symbol                Date   High   Open        Marketcap\n",
       "0  Bitcoin    BTC 2013-04-29 23:59:59 147.49 134.44 1,603,768,864.50\n",
       "1  Bitcoin    BTC 2013-04-30 23:59:59 146.93 144.00 1,542,813,125.00\n",
       "2  Bitcoin    BTC 2013-05-01 23:59:59 139.89 139.00 1,298,954,593.75"
      ]
     },
     "execution_count": 14,
     "metadata": {},
     "output_type": "execute_result"
    }
   ],
   "source": [
    "arq02.head(3)"
   ]
  },
  {
   "cell_type": "code",
   "execution_count": 15,
   "id": "0eda5783",
   "metadata": {
    "scrolled": true
   },
   "outputs": [
    {
     "name": "stdout",
     "output_type": "stream",
     "text": [
      "<class 'pandas.core.frame.DataFrame'>\n",
      "RangeIndex: 2991 entries, 0 to 2990\n",
      "Data columns (total 6 columns):\n",
      " #   Column     Non-Null Count  Dtype         \n",
      "---  ------     --------------  -----         \n",
      " 0   Name       2991 non-null   object        \n",
      " 1   Symbol     2991 non-null   object        \n",
      " 2   Date       2991 non-null   datetime64[ns]\n",
      " 3   High       2991 non-null   float64       \n",
      " 4   Open       2991 non-null   float64       \n",
      " 5   Marketcap  2991 non-null   float64       \n",
      "dtypes: datetime64[ns](1), float64(3), object(2)\n",
      "memory usage: 140.3+ KB\n"
     ]
    }
   ],
   "source": [
    "arq02.info()"
   ]
  },
  {
   "cell_type": "markdown",
   "id": "772aff98",
   "metadata": {},
   "source": [
    "exemplo:\n",
    "\n",
    "parte01\n",
    "\n",
    "df = pd.DataFrame({'Data': {0: 'May, 10 2020', 1: 'May, 11 2020'}})\n",
    "\n",
    "df['Data'] = pd.to_datetime(df.Data)\n",
    "\n",
    "print(df)\n",
    "\n",
    "Data\n",
    "\n",
    "0 2020-05-10\n",
    "\n",
    "1 2020-05-11"
   ]
  },
  {
   "cell_type": "markdown",
   "id": "7427b89a",
   "metadata": {},
   "source": [
    "parte02\n",
    "\n",
    "df['Data'] = df['Data'].dt.strftime('%m/%d/%Y')"
   ]
  },
  {
   "cell_type": "code",
   "execution_count": 16,
   "id": "eb72297c",
   "metadata": {},
   "outputs": [
    {
     "name": "stderr",
     "output_type": "stream",
     "text": [
      "/tmp/ipykernel_8692/3033023631.py:1: SettingWithCopyWarning: \n",
      "A value is trying to be set on a copy of a slice from a DataFrame.\n",
      "Try using .loc[row_indexer,col_indexer] = value instead\n",
      "\n",
      "See the caveats in the documentation: https://pandas.pydata.org/pandas-docs/stable/user_guide/indexing.html#returning-a-view-versus-a-copy\n",
      "  arq02['Date'] = arq02['Date'].dt.strftime('%Y%m%d')\n"
     ]
    }
   ],
   "source": [
    "arq02['Date'] = arq02['Date'].dt.strftime('%Y%m%d')"
   ]
  },
  {
   "cell_type": "code",
   "execution_count": 17,
   "id": "a79db492",
   "metadata": {},
   "outputs": [
    {
     "data": {
      "text/html": [
       "<div>\n",
       "<style scoped>\n",
       "    .dataframe tbody tr th:only-of-type {\n",
       "        vertical-align: middle;\n",
       "    }\n",
       "\n",
       "    .dataframe tbody tr th {\n",
       "        vertical-align: top;\n",
       "    }\n",
       "\n",
       "    .dataframe thead th {\n",
       "        text-align: right;\n",
       "    }\n",
       "</style>\n",
       "<table border=\"1\" class=\"dataframe\">\n",
       "  <thead>\n",
       "    <tr style=\"text-align: right;\">\n",
       "      <th></th>\n",
       "      <th>Name</th>\n",
       "      <th>Symbol</th>\n",
       "      <th>Date</th>\n",
       "      <th>High</th>\n",
       "      <th>Open</th>\n",
       "      <th>Marketcap</th>\n",
       "    </tr>\n",
       "  </thead>\n",
       "  <tbody>\n",
       "    <tr>\n",
       "      <th>0</th>\n",
       "      <td>Bitcoin</td>\n",
       "      <td>BTC</td>\n",
       "      <td>20130429</td>\n",
       "      <td>147.49</td>\n",
       "      <td>134.44</td>\n",
       "      <td>1,603,768,864.50</td>\n",
       "    </tr>\n",
       "    <tr>\n",
       "      <th>1</th>\n",
       "      <td>Bitcoin</td>\n",
       "      <td>BTC</td>\n",
       "      <td>20130430</td>\n",
       "      <td>146.93</td>\n",
       "      <td>144.00</td>\n",
       "      <td>1,542,813,125.00</td>\n",
       "    </tr>\n",
       "    <tr>\n",
       "      <th>2</th>\n",
       "      <td>Bitcoin</td>\n",
       "      <td>BTC</td>\n",
       "      <td>20130501</td>\n",
       "      <td>139.89</td>\n",
       "      <td>139.00</td>\n",
       "      <td>1,298,954,593.75</td>\n",
       "    </tr>\n",
       "  </tbody>\n",
       "</table>\n",
       "</div>"
      ],
      "text/plain": [
       "      Name Symbol      Date   High   Open        Marketcap\n",
       "0  Bitcoin    BTC  20130429 147.49 134.44 1,603,768,864.50\n",
       "1  Bitcoin    BTC  20130430 146.93 144.00 1,542,813,125.00\n",
       "2  Bitcoin    BTC  20130501 139.89 139.00 1,298,954,593.75"
      ]
     },
     "execution_count": 17,
     "metadata": {},
     "output_type": "execute_result"
    }
   ],
   "source": [
    "arq02.head(3)"
   ]
  },
  {
   "cell_type": "code",
   "execution_count": 18,
   "id": "3ae3aaf3",
   "metadata": {},
   "outputs": [
    {
     "name": "stdout",
     "output_type": "stream",
     "text": [
      "<class 'pandas.core.frame.DataFrame'>\n",
      "RangeIndex: 2991 entries, 0 to 2990\n",
      "Data columns (total 6 columns):\n",
      " #   Column     Non-Null Count  Dtype  \n",
      "---  ------     --------------  -----  \n",
      " 0   Name       2991 non-null   object \n",
      " 1   Symbol     2991 non-null   object \n",
      " 2   Date       2991 non-null   object \n",
      " 3   High       2991 non-null   float64\n",
      " 4   Open       2991 non-null   float64\n",
      " 5   Marketcap  2991 non-null   float64\n",
      "dtypes: float64(3), object(3)\n",
      "memory usage: 140.3+ KB\n"
     ]
    }
   ],
   "source": [
    "arq02.info()"
   ]
  },
  {
   "cell_type": "code",
   "execution_count": 19,
   "id": "5a8d08f4",
   "metadata": {},
   "outputs": [
    {
     "name": "stderr",
     "output_type": "stream",
     "text": [
      "/tmp/ipykernel_8692/1982801163.py:1: SettingWithCopyWarning: \n",
      "A value is trying to be set on a copy of a slice from a DataFrame.\n",
      "Try using .loc[row_indexer,col_indexer] = value instead\n",
      "\n",
      "See the caveats in the documentation: https://pandas.pydata.org/pandas-docs/stable/user_guide/indexing.html#returning-a-view-versus-a-copy\n",
      "  arq02['Date']=pd.to_datetime(arq02['Date'])\n"
     ]
    }
   ],
   "source": [
    "arq02['Date']=pd.to_datetime(arq02['Date'])"
   ]
  },
  {
   "cell_type": "code",
   "execution_count": 20,
   "id": "a2cbe89f",
   "metadata": {},
   "outputs": [
    {
     "data": {
      "text/html": [
       "<div>\n",
       "<style scoped>\n",
       "    .dataframe tbody tr th:only-of-type {\n",
       "        vertical-align: middle;\n",
       "    }\n",
       "\n",
       "    .dataframe tbody tr th {\n",
       "        vertical-align: top;\n",
       "    }\n",
       "\n",
       "    .dataframe thead th {\n",
       "        text-align: right;\n",
       "    }\n",
       "</style>\n",
       "<table border=\"1\" class=\"dataframe\">\n",
       "  <thead>\n",
       "    <tr style=\"text-align: right;\">\n",
       "      <th></th>\n",
       "      <th>Name</th>\n",
       "      <th>Symbol</th>\n",
       "      <th>Date</th>\n",
       "      <th>High</th>\n",
       "      <th>Open</th>\n",
       "      <th>Marketcap</th>\n",
       "    </tr>\n",
       "  </thead>\n",
       "  <tbody>\n",
       "    <tr>\n",
       "      <th>0</th>\n",
       "      <td>Bitcoin</td>\n",
       "      <td>BTC</td>\n",
       "      <td>2013-04-29</td>\n",
       "      <td>147.49</td>\n",
       "      <td>134.44</td>\n",
       "      <td>1,603,768,864.50</td>\n",
       "    </tr>\n",
       "    <tr>\n",
       "      <th>1</th>\n",
       "      <td>Bitcoin</td>\n",
       "      <td>BTC</td>\n",
       "      <td>2013-04-30</td>\n",
       "      <td>146.93</td>\n",
       "      <td>144.00</td>\n",
       "      <td>1,542,813,125.00</td>\n",
       "    </tr>\n",
       "    <tr>\n",
       "      <th>2</th>\n",
       "      <td>Bitcoin</td>\n",
       "      <td>BTC</td>\n",
       "      <td>2013-05-01</td>\n",
       "      <td>139.89</td>\n",
       "      <td>139.00</td>\n",
       "      <td>1,298,954,593.75</td>\n",
       "    </tr>\n",
       "  </tbody>\n",
       "</table>\n",
       "</div>"
      ],
      "text/plain": [
       "      Name Symbol       Date   High   Open        Marketcap\n",
       "0  Bitcoin    BTC 2013-04-29 147.49 134.44 1,603,768,864.50\n",
       "1  Bitcoin    BTC 2013-04-30 146.93 144.00 1,542,813,125.00\n",
       "2  Bitcoin    BTC 2013-05-01 139.89 139.00 1,298,954,593.75"
      ]
     },
     "execution_count": 20,
     "metadata": {},
     "output_type": "execute_result"
    }
   ],
   "source": [
    "arq02.head(3)"
   ]
  },
  {
   "cell_type": "code",
   "execution_count": 22,
   "id": "bcf4a29c",
   "metadata": {},
   "outputs": [
    {
     "name": "stdout",
     "output_type": "stream",
     "text": [
      "<class 'pandas.core.frame.DataFrame'>\n",
      "RangeIndex: 2991 entries, 0 to 2990\n",
      "Data columns (total 6 columns):\n",
      " #   Column     Non-Null Count  Dtype         \n",
      "---  ------     --------------  -----         \n",
      " 0   Name       2991 non-null   object        \n",
      " 1   Symbol     2991 non-null   object        \n",
      " 2   Date       2991 non-null   datetime64[ns]\n",
      " 3   High       2991 non-null   float64       \n",
      " 4   Open       2991 non-null   float64       \n",
      " 5   Marketcap  2991 non-null   float64       \n",
      "dtypes: datetime64[ns](1), float64(3), object(2)\n",
      "memory usage: 140.3+ KB\n"
     ]
    }
   ],
   "source": [
    "arq02.info()"
   ]
  },
  {
   "cell_type": "code",
   "execution_count": null,
   "id": "98bed885",
   "metadata": {},
   "outputs": [],
   "source": [
    "arq02['Marketcap'].max()"
   ]
  },
  {
   "cell_type": "code",
   "execution_count": null,
   "id": "75fe30f3",
   "metadata": {},
   "outputs": [],
   "source": [
    "arq03_max = arq02['Marketcap'] == 1186364044140.27"
   ]
  },
  {
   "cell_type": "code",
   "execution_count": null,
   "id": "ac189b6e",
   "metadata": {},
   "outputs": [],
   "source": [
    "arq03_max"
   ]
  },
  {
   "cell_type": "code",
   "execution_count": null,
   "id": "a37712ce",
   "metadata": {},
   "outputs": [],
   "source": []
  },
  {
   "cell_type": "code",
   "execution_count": null,
   "id": "d1611eea",
   "metadata": {},
   "outputs": [],
   "source": []
  },
  {
   "cell_type": "code",
   "execution_count": null,
   "id": "fe5e51a5",
   "metadata": {},
   "outputs": [],
   "source": []
  }
 ],
 "metadata": {
  "kernelspec": {
   "display_name": "Python 3 (ipykernel)",
   "language": "python",
   "name": "python3"
  },
  "language_info": {
   "codemirror_mode": {
    "name": "ipython",
    "version": 3
   },
   "file_extension": ".py",
   "mimetype": "text/x-python",
   "name": "python",
   "nbconvert_exporter": "python",
   "pygments_lexer": "ipython3",
   "version": "3.9.12"
  }
 },
 "nbformat": 4,
 "nbformat_minor": 5
}
