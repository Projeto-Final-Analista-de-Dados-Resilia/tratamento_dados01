{
 "cells": [
  {
   "cell_type": "markdown",
   "id": "e458c210",
   "metadata": {},
   "source": [
    "### A análise deverá responder às seguintes perguntas:"
   ]
  },
  {
   "cell_type": "markdown",
   "id": "18f9bd52",
   "metadata": {},
   "source": [
    "* Observação: \n",
    "    \n",
    "    * A moeda digital Bitcoin não foi considerada nesta base de dados para minimizar possíveis distorções.\n",
    "    * O dashboard interativo contruído possuí 10 opções na barra de moeda, 7 opções na seleção do ano e 7 opções de dias da semana. O que possibilita uma combinação de pelo menos 490 gráficos que podem ajudar na elucidação das análises para as questões propostas.\n",
    "    `"
   ]
  },
  {
   "cell_type": "markdown",
   "id": "c619d256",
   "metadata": {},
   "source": [
    "1. Como se comportaram os valores para todas as criptomoedas? Os valores tiveram uma\n",
    "tendência de queda ou de aumento?"
   ]
  },
  {
   "cell_type": "markdown",
   "id": "54345538",
   "metadata": {},
   "source": [
    "<br>\n",
    "<img src='questao01A.png'>\n",
    "<br>"
   ]
  },
  {
   "cell_type": "markdown",
   "id": "53cd09ca",
   "metadata": {},
   "source": [
    "* No período entre 2018 e 2021, houve uma tendência de queda; o que fica evidente pela linha tracejada que representa a mediana da valorização percentual no intervalo acumulado."
   ]
  },
  {
   "cell_type": "markdown",
   "id": "246b1ee4",
   "metadata": {},
   "source": [
    "\n",
    "* Para a análise consideramos o ano de 2021.\n",
    "    * Duas moedas possuem curvas com  maior volatilidade, são Ethereum e Binance Coin.Para as demais moedas as oscilações de preço são pouco significativas, qualquer tentativa de análise acarretará em especulações pouco embassadas.\n",
    "    * No que tange as moedas citadas (Ether e BC) para primeira é visível oscilações muito significativas, indicando volatilidade considerável e tendência de alta. Já a segunda moeda, Binance Coin, as oscilações são pouco significativas quando comparado com a primeira, é presente uma leve tendência de aumento."
   ]
  },
  {
   "cell_type": "markdown",
   "id": "db64ff2a",
   "metadata": {},
   "source": [
    "2. Quais os valores médios para todas as criptomoedas?"
   ]
  },
  {
   "cell_type": "code",
   "execution_count": null,
   "id": "dcb4ab26",
   "metadata": {},
   "outputs": [],
   "source": []
  },
  {
   "cell_type": "markdown",
   "id": "9e2cc7fc",
   "metadata": {},
   "source": [
    "3. Em quais anos houve maiores quedas e valorizações? \n"
   ]
  },
  {
   "cell_type": "markdown",
   "id": "fa0e27bc",
   "metadata": {},
   "source": [
    "<br>\n",
    "<img src='questao03A.png'>\n",
    "<br>"
   ]
  },
  {
   "cell_type": "markdown",
   "id": "1b713536",
   "metadata": {},
   "source": [
    "* O ano de 2018 é o que apresenta maior queda absoluta para todos os criptoativos."
   ]
  },
  {
   "cell_type": "markdown",
   "id": "d0cd60f3",
   "metadata": {},
   "source": [
    "<br>\n",
    "<img src=\"questao03B.png\">\n",
    "<br>"
   ]
  },
  {
   "cell_type": "markdown",
   "id": "e909b5a4",
   "metadata": {},
   "source": [
    "* 2021, é o ano com maior valorização absoluta para as criptomoedas selecionadas."
   ]
  },
  {
   "cell_type": "markdown",
   "id": "e0b9b7f5",
   "metadata": {},
   "source": [
    "4. Existe alguma tendência de aumento ou queda dos valores pelo dia da semana?"
   ]
  },
  {
   "cell_type": "markdown",
   "id": "1b87d033",
   "metadata": {},
   "source": [
    "<br>\n",
    "<img src='questao04A.png'>\n",
    "<br>"
   ]
  },
  {
   "cell_type": "markdown",
   "id": "25fc2518",
   "metadata": {},
   "source": [
    "* Pela análise dos dados (2016 até 2022) no painel contruído no Power BI, é possível depreender que o dia da semana com maior volume de negociação é a sexta-feira. Entretanto não é pssível afirmar com veemência que um maior volume de negociação está ligado a uma tendência de queda ou aumento no valor das criptomoedas negociadas."
   ]
  },
  {
   "cell_type": "markdown",
   "id": "bc1080b7",
   "metadata": {},
   "source": [
    "5. Qual moeda se mostra mais interessante em relação à valorização pela análise da série histórica?"
   ]
  },
  {
   "cell_type": "markdown",
   "id": "2f97cf22",
   "metadata": {},
   "source": [
    "<br>\n",
    "<img src= 'questao05A.png'>\n",
    "<br>"
   ]
  },
  {
   "cell_type": "markdown",
   "id": "24c434d3",
   "metadata": {},
   "source": [
    "* Analisando o dashboard criado, é observado valores mínimos, máximos, média e volume negociado. Levando em consideração também estes fatores a criptomoeda entre as dez escolhidas que apresenta maior valorização é a Ethereum para o perídodo que compreende os anos de 2016 até 2021."
   ]
  },
  {
   "cell_type": "markdown",
   "id": "f5341339",
   "metadata": {},
   "source": [
    "6. Qual moeda se mostra menos interessante em relação à valorização pela análise da série histórica?"
   ]
  },
  {
   "cell_type": "markdown",
   "id": "1ace140f",
   "metadata": {},
   "source": [
    "<br>\n",
    "<img src='questao6A.png'>\n",
    "<br>"
   ]
  },
  {
   "cell_type": "markdown",
   "id": "5277692a",
   "metadata": {},
   "source": [
    "* A moeda menos interessante para o período de 2019 até 2021 foi a USD Coin, praticamente não houve valorização ou perca significativa. O que equivale a um investimento que dado o seu risco, não conseguiu minimamente superar a inflação do período acumulado, acarretando perda de capital para o investidor."
   ]
  },
  {
   "cell_type": "markdown",
   "id": "6e769962",
   "metadata": {},
   "source": [
    "7. Existe correlação entre os valores para todas as criptomoedas?"
   ]
  },
  {
   "cell_type": "code",
   "execution_count": null,
   "id": "f72d083f",
   "metadata": {},
   "outputs": [],
   "source": []
  }
 ],
 "metadata": {
  "kernelspec": {
   "display_name": "Python 3 (ipykernel)",
   "language": "python",
   "name": "python3"
  },
  "language_info": {
   "codemirror_mode": {
    "name": "ipython",
    "version": 3
   },
   "file_extension": ".py",
   "mimetype": "text/x-python",
   "name": "python",
   "nbconvert_exporter": "python",
   "pygments_lexer": "ipython3",
   "version": "3.9.12"
  }
 },
 "nbformat": 4,
 "nbformat_minor": 5
}
