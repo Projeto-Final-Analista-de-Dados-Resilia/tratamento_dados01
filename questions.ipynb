{
 "cells": [
  {
   "cell_type": "markdown",
   "id": "407f24eb",
   "metadata": {},
   "source": [
    "### A análise deverá responder às seguintes perguntas:"
   ]
  },
  {
   "cell_type": "markdown",
   "id": "6031b947",
   "metadata": {},
   "source": [
    "* Observação: \n",
    "    \n",
    "    * A moeda digital Bitcoin não foi considerada nesta base de dados para minimizar possíveis distorções.\n",
    "    * O dashboard interativo contruído possuí 10 opções na barra de moeda, 7 opções na seleção do ano e 7 opções de dias da semana. O que possibilita uma combinação de pelo menos 490 gráficos que podem ajudar na elucidação das análises para as questões propostas.\n",
    "    `"
   ]
  },
  {
   "cell_type": "markdown",
   "id": "7bb7ada3",
   "metadata": {},
   "source": [
    "1. Como se comportaram os valores para todas as criptomoedas? Os valores tiveram uma\n",
    "tendência de queda ou de aumento?"
   ]
  },
  {
   "cell_type": "markdown",
   "id": "8892c12c",
   "metadata": {},
   "source": [
    "<br>\n",
    "<img src='img02.png'>\n",
    "<br>"
   ]
  },
  {
   "cell_type": "markdown",
   "id": "d1b0b9f2",
   "metadata": {},
   "source": [
    "* No período entre 2018 e 2021, houve uma tendência de queda; o que fica evidente pela linha tracejada que representa a mediana da valorização percentual no intervalo acumulado."
   ]
  },
  {
   "cell_type": "markdown",
   "id": "d8d57597",
   "metadata": {},
   "source": [
    "\n",
    "* Para a análise consideramos o ano de 2021.\n",
    "    * Duas moedas possuem curvas com  maior volatilidade, são Ethereum e Binance Coin.Para as demais moedas as oscilações de preço são pouco significativas, qualquer tentativa de análise acarretará em especulações pouco embassadas.\n",
    "    * No que tange as moedas citadas (Ether e BC) para primeira é visível oscilações muito significativas, indicando volatilidade considerável e tendência de alta. Já a segunda moeda, Binance Coin, as oscilações são pouco significativas quando comparado com a primeira, é presente uma leve tendência de aumento."
   ]
  },
  {
   "cell_type": "markdown",
   "id": "53735c20",
   "metadata": {},
   "source": [
    "2. Quais os valores médios para todas as criptomoedas?"
   ]
  },
  {
   "cell_type": "code",
   "execution_count": null,
   "id": "0d578c5b",
   "metadata": {},
   "outputs": [],
   "source": []
  },
  {
   "cell_type": "markdown",
   "id": "3bacb432",
   "metadata": {},
   "source": [
    "3. Em quais anos houve maiores quedas e valorizações? \n",
    "(2018 maior queda e 2021 maior valorização)"
   ]
  },
  {
   "cell_type": "markdown",
   "id": "30c536ab",
   "metadata": {},
   "source": [
    "<br>\n",
    "<img src='img06.png'>\n",
    "<br>"
   ]
  },
  {
   "cell_type": "markdown",
   "id": "82a52d64",
   "metadata": {},
   "source": [
    "* O ano de 2018 é o que apresenta maior queda absoluta para todos os criptoativos."
   ]
  },
  {
   "cell_type": "markdown",
   "id": "8a03c473",
   "metadata": {},
   "source": [
    "<br>\n",
    "<img src=\"img07.png\">\n",
    "<br>"
   ]
  },
  {
   "cell_type": "markdown",
   "id": "b00d6ea7",
   "metadata": {},
   "source": [
    "* 2021, é o ano com maior valorização absoluta para as criptomoedas selecionadas."
   ]
  },
  {
   "cell_type": "markdown",
   "id": "34f4de1a",
   "metadata": {},
   "source": [
    "4. Existe alguma tendência de aumento ou queda dos valores pelo dia da semana?"
   ]
  },
  {
   "cell_type": "markdown",
   "id": "8973481a",
   "metadata": {},
   "source": [
    "<br>\n",
    "<img src='img03.png'>\n",
    "<br>"
   ]
  },
  {
   "cell_type": "markdown",
   "id": "757cb069",
   "metadata": {},
   "source": [
    "* Pela análise dos dados (2016 até 2022) no painel contruído no Power BI, é possível depreender que o dia da semana com maior volume de negociação é a sexta-feira. Entretanto não é pssível afirmar com veemência que um maior volume de negociação está ligado a uma tendência de queda ou aumento no valor das criptomoedas negociadas."
   ]
  },
  {
   "cell_type": "markdown",
   "id": "f2f5fa89",
   "metadata": {},
   "source": [
    "5. Qual moeda se mostra mais interessante em relação à valorização pela análise da série histórica?"
   ]
  },
  {
   "cell_type": "markdown",
   "id": "88e77782",
   "metadata": {},
   "source": [
    "<br>\n",
    "<img src= 'img04.png'>\n",
    "<br>"
   ]
  },
  {
   "cell_type": "markdown",
   "id": "d57c13cf",
   "metadata": {},
   "source": [
    "* Analisando o dashboard criado, é observado valores mínimos, máximos, média e volume negociado. Levando em consideração também estes fatores a criptomoeda entre as dez escolhidas que apresenta maior valorização é a Ethereum para o perídodo que compreende os anos de 2016 até 2021."
   ]
  },
  {
   "cell_type": "markdown",
   "id": "8dc636c0",
   "metadata": {},
   "source": [
    "6. Qual moeda se mostra menos interessante em relação à valorização pela análise da série histórica?"
   ]
  },
  {
   "cell_type": "markdown",
   "id": "e99e2960",
   "metadata": {},
   "source": [
    "<br>\n",
    "<img src='img05.png'>\n",
    "<br>"
   ]
  },
  {
   "cell_type": "markdown",
   "id": "fbcd9c9b",
   "metadata": {},
   "source": [
    "* A moeda menos interessante para o período de 2019 até 2021 foi a USD Coin, praticamente não houve valorização ou perca significativa. O que equivale a um investimento que dado o seu risco, não conseguiu minimamente superar a inflação do período acumulado, acarretando perda de capital para o investidor."
   ]
  },
  {
   "cell_type": "markdown",
   "id": "cc643559",
   "metadata": {},
   "source": [
    "7. Existe correlação entre os valores para todas as criptomoedas?"
   ]
  },
  {
   "cell_type": "code",
   "execution_count": null,
   "id": "8be77746",
   "metadata": {},
   "outputs": [],
   "source": []
  }
 ],
 "metadata": {
  "kernelspec": {
   "display_name": "Python 3 (ipykernel)",
   "language": "python",
   "name": "python3"
  },
  "language_info": {
   "codemirror_mode": {
    "name": "ipython",
    "version": 3
   },
   "file_extension": ".py",
   "mimetype": "text/x-python",
   "name": "python",
   "nbconvert_exporter": "python",
   "pygments_lexer": "ipython3",
   "version": "3.9.12"
  }
 },
 "nbformat": 4,
 "nbformat_minor": 5
}
